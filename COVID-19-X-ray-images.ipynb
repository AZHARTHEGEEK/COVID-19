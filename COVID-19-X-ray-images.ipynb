{
  "nbformat": 4,
  "nbformat_minor": 0,
  "metadata": {
    "kernelspec": {
      "name": "python3",
      "display_name": "Python 3"
    },
    "language_info": {
      "codemirror_mode": {
        "name": "ipython",
        "version": 3
      },
      "file_extension": ".py",
      "mimetype": "text/x-python",
      "name": "python",
      "nbconvert_exporter": "python",
      "pygments_lexer": "ipython3",
      "version": "3.7.3"
    },
    "colab": {
      "name": "Untitled.ipynb",
      "provenance": [],
      "collapsed_sections": [],
      "toc_visible": true,
      "include_colab_link": true
    },
    "accelerator": "TPU"
  },
  "cells": [
    {
      "cell_type": "markdown",
      "metadata": {
        "id": "view-in-github",
        "colab_type": "text"
      },
      "source": [
        "<a href=\"https://colab.research.google.com/github/anasali2193/COVID-19/blob/master/COVID-19-X-ray-images.ipynb\" target=\"_parent\"><img src=\"https://colab.research.google.com/assets/colab-badge.svg\" alt=\"Open In Colab\"/></a>"
      ]
    },
    {
      "cell_type": "code",
      "metadata": {
        "id": "X_T4mS4LxR3o",
        "colab_type": "code",
        "outputId": "d53a6000-643c-439b-da36-35a70b50fda8",
        "colab": {
          "base_uri": "https://localhost:8080/",
          "height": 121
        }
      },
      "source": [
        "!git clone https://github.com/ieee8023/covid-chestxray-dataset.git"
      ],
      "execution_count": 0,
      "outputs": [
        {
          "output_type": "stream",
          "text": [
            "Cloning into 'covid-chestxray-dataset'...\n",
            "remote: Enumerating objects: 578, done.\u001b[K\n",
            "remote: Total 578 (delta 0), reused 0 (delta 0), pack-reused 578\u001b[K\n",
            "Receiving objects: 100% (578/578), 80.57 MiB | 22.99 MiB/s, done.\n",
            "Resolving deltas: 100% (230/230), done.\n",
            "Checking out files: 100% (156/156), done.\n"
          ],
          "name": "stdout"
        }
      ]
    },
    {
      "cell_type": "code",
      "metadata": {
        "id": "sxcyAiOktLnf",
        "colab_type": "code",
        "outputId": "b58acd49-4367-4489-db49-8478565be7c0",
        "colab": {
          "base_uri": "https://localhost:8080/",
          "height": 35
        }
      },
      "source": [
        "%cd '/content/drive/My Drive/COVID-19/covid-chestxray-dataset/'\n"
      ],
      "execution_count": 0,
      "outputs": [
        {
          "output_type": "stream",
          "text": [
            "/content/drive/My Drive/COVID-19/covid-chestxray-dataset\n"
          ],
          "name": "stdout"
        }
      ]
    },
    {
      "cell_type": "code",
      "metadata": {
        "id": "2-_ByN--r0YU",
        "colab_type": "code",
        "colab": {}
      },
      "source": [
        "import pandas as pd\n",
        "import argparse\n",
        "import shutil"
      ],
      "execution_count": 0,
      "outputs": []
    },
    {
      "cell_type": "code",
      "metadata": {
        "id": "ZUSyGpiFrqXo",
        "colab_type": "code",
        "colab": {}
      },
      "source": [
        "df = pd.read_csv('metadata.csv')"
      ],
      "execution_count": 0,
      "outputs": []
    },
    {
      "cell_type": "code",
      "metadata": {
        "id": "Mfv1UbN6t57T",
        "colab_type": "code",
        "outputId": "2d8f078a-b6a5-49ac-d215-c1e9c6ea3592",
        "colab": {
          "base_uri": "https://localhost:8080/",
          "height": 395
        }
      },
      "source": [
        "df.head(100)"
      ],
      "execution_count": 0,
      "outputs": [
        {
          "output_type": "execute_result",
          "data": {
            "text/html": [
              "<div>\n",
              "<style scoped>\n",
              "    .dataframe tbody tr th:only-of-type {\n",
              "        vertical-align: middle;\n",
              "    }\n",
              "\n",
              "    .dataframe tbody tr th {\n",
              "        vertical-align: top;\n",
              "    }\n",
              "\n",
              "    .dataframe thead th {\n",
              "        text-align: right;\n",
              "    }\n",
              "</style>\n",
              "<table border=\"1\" class=\"dataframe\">\n",
              "  <thead>\n",
              "    <tr style=\"text-align: right;\">\n",
              "      <th></th>\n",
              "      <th>Patientid</th>\n",
              "      <th>offset</th>\n",
              "      <th>sex</th>\n",
              "      <th>age</th>\n",
              "      <th>finding</th>\n",
              "      <th>survival</th>\n",
              "      <th>view</th>\n",
              "      <th>modality</th>\n",
              "      <th>date</th>\n",
              "      <th>location</th>\n",
              "      <th>filename</th>\n",
              "      <th>doi</th>\n",
              "      <th>url</th>\n",
              "      <th>license</th>\n",
              "      <th>clinical notes</th>\n",
              "      <th>other notes</th>\n",
              "      <th>Unnamed: 16</th>\n",
              "    </tr>\n",
              "  </thead>\n",
              "  <tbody>\n",
              "    <tr>\n",
              "      <th>0</th>\n",
              "      <td>2</td>\n",
              "      <td>0.0</td>\n",
              "      <td>M</td>\n",
              "      <td>65.0</td>\n",
              "      <td>COVID-19</td>\n",
              "      <td>Y</td>\n",
              "      <td>PA</td>\n",
              "      <td>X-ray</td>\n",
              "      <td>2020</td>\n",
              "      <td>NaN</td>\n",
              "      <td>auntminnie-a-2020_01_28_23_51_6665_2020_01_28_...</td>\n",
              "      <td>10.1056/nejmc2001272</td>\n",
              "      <td>https://www.nejm.org/doi/full/10.1056/NEJMc200...</td>\n",
              "      <td>NaN</td>\n",
              "      <td>NaN</td>\n",
              "      <td>NaN</td>\n",
              "      <td>NaN</td>\n",
              "    </tr>\n",
              "    <tr>\n",
              "      <th>1</th>\n",
              "      <td>2</td>\n",
              "      <td>3.0</td>\n",
              "      <td>M</td>\n",
              "      <td>65.0</td>\n",
              "      <td>COVID-19</td>\n",
              "      <td>Y</td>\n",
              "      <td>PA</td>\n",
              "      <td>X-ray</td>\n",
              "      <td>2020</td>\n",
              "      <td>NaN</td>\n",
              "      <td>auntminnie-b-2020_01_28_23_51_6665_2020_01_28_...</td>\n",
              "      <td>10.1056/nejmc2001272</td>\n",
              "      <td>https://www.nejm.org/doi/full/10.1056/NEJMc200...</td>\n",
              "      <td>NaN</td>\n",
              "      <td>NaN</td>\n",
              "      <td>NaN</td>\n",
              "      <td>NaN</td>\n",
              "    </tr>\n",
              "    <tr>\n",
              "      <th>2</th>\n",
              "      <td>2</td>\n",
              "      <td>5.0</td>\n",
              "      <td>M</td>\n",
              "      <td>65.0</td>\n",
              "      <td>COVID-19</td>\n",
              "      <td>Y</td>\n",
              "      <td>PA</td>\n",
              "      <td>X-ray</td>\n",
              "      <td>2020</td>\n",
              "      <td>NaN</td>\n",
              "      <td>auntminnie-c-2020_01_28_23_51_6665_2020_01_28_...</td>\n",
              "      <td>10.1056/nejmc2001272</td>\n",
              "      <td>https://www.nejm.org/doi/full/10.1056/NEJMc200...</td>\n",
              "      <td>NaN</td>\n",
              "      <td>NaN</td>\n",
              "      <td>NaN</td>\n",
              "      <td>NaN</td>\n",
              "    </tr>\n",
              "    <tr>\n",
              "      <th>3</th>\n",
              "      <td>2</td>\n",
              "      <td>6.0</td>\n",
              "      <td>M</td>\n",
              "      <td>65.0</td>\n",
              "      <td>COVID-19</td>\n",
              "      <td>Y</td>\n",
              "      <td>PA</td>\n",
              "      <td>X-ray</td>\n",
              "      <td>2020</td>\n",
              "      <td>NaN</td>\n",
              "      <td>auntminnie-d-2020_01_28_23_51_6665_2020_01_28_...</td>\n",
              "      <td>10.1056/nejmc2001272</td>\n",
              "      <td>https://www.nejm.org/doi/full/10.1056/NEJMc200...</td>\n",
              "      <td>NaN</td>\n",
              "      <td>NaN</td>\n",
              "      <td>NaN</td>\n",
              "      <td>NaN</td>\n",
              "    </tr>\n",
              "    <tr>\n",
              "      <th>4</th>\n",
              "      <td>4</td>\n",
              "      <td>0.0</td>\n",
              "      <td>F</td>\n",
              "      <td>52.0</td>\n",
              "      <td>COVID-19</td>\n",
              "      <td>NaN</td>\n",
              "      <td>PA</td>\n",
              "      <td>X-ray</td>\n",
              "      <td>2020</td>\n",
              "      <td>Changhua Christian Hospital, Changhua City, Ta...</td>\n",
              "      <td>nejmc2001573_f1a.jpeg</td>\n",
              "      <td>10.1056/NEJMc2001573</td>\n",
              "      <td>https://www.nejm.org/doi/full/10.1056/NEJMc200...</td>\n",
              "      <td>NaN</td>\n",
              "      <td>diffuse infiltrates in the bilateral lower lungs</td>\n",
              "      <td>NaN</td>\n",
              "      <td>NaN</td>\n",
              "    </tr>\n",
              "  </tbody>\n",
              "</table>\n",
              "</div>"
            ],
            "text/plain": [
              "   Patientid  offset  ... other notes  Unnamed: 16\n",
              "0          2     0.0  ...         NaN          NaN\n",
              "1          2     3.0  ...         NaN          NaN\n",
              "2          2     5.0  ...         NaN          NaN\n",
              "3          2     6.0  ...         NaN          NaN\n",
              "4          4     0.0  ...         NaN          NaN\n",
              "\n",
              "[5 rows x 17 columns]"
            ]
          },
          "metadata": {
            "tags": []
          },
          "execution_count": 90
        }
      ]
    },
    {
      "cell_type": "code",
      "metadata": {
        "id": "SAwxJ7hbrqbf",
        "colab_type": "code",
        "outputId": "44781f77-add2-475e-9ec1-591550eff28f",
        "colab": {
          "base_uri": "https://localhost:8080/",
          "height": 1000
        }
      },
      "source": [
        "\n",
        "for (i,row) in df.iterrows():\n",
        "  if row['finding'] != 'COVID-19' or row['view'] != 'PA':\n",
        "    \n",
        "    continue\n",
        "  img_path =os.path.join('/content/drive/My Drive/COVID-19/covid-chestxray-dataset','images',row['filename'])\n",
        "  # if not os.path.exists(img_path):\n",
        "    \n",
        "  #   # print(row['Patientid'])\n",
        "  #   # print(img_path)\n",
        "  #   continue\n",
        "  filename = row[\"filename\"].split(os.path.sep)[-1] \n",
        "  # filename = row['filename'].split[os.path.sep][-1] \n",
        "  print(filename)    \n",
        "\n",
        "  \n",
        "  output_path = os.path.join('/content/drive/My Drive/COVID-19/dataset/covid',filename)\n",
        "  shutil.copy2(img_path,output_path)\n"
      ],
      "execution_count": 0,
      "outputs": [
        {
          "output_type": "stream",
          "text": [
            "auntminnie-a-2020_01_28_23_51_6665_2020_01_28_Vietnam_coronavirus.jpeg\n",
            "auntminnie-b-2020_01_28_23_51_6665_2020_01_28_Vietnam_coronavirus.jpeg\n",
            "auntminnie-c-2020_01_28_23_51_6665_2020_01_28_Vietnam_coronavirus.jpeg\n",
            "auntminnie-d-2020_01_28_23_51_6665_2020_01_28_Vietnam_coronavirus.jpeg\n",
            "nejmc2001573_f1a.jpeg\n",
            "nejmc2001573_f1b.jpeg\n",
            "lancet-case2a.jpg\n",
            "lancet-case2b.jpg\n",
            "1-s2.0-S0140673620303706-fx1_lrg.jpg\n",
            "nCoV-radiol.2020200269.fig1-day7.jpeg\n",
            "nejmoa2001191_f1-PA.jpeg\n",
            "nejmoa2001191_f3-PA.jpeg\n",
            "nejmoa2001191_f4.jpeg\n",
            "nejmoa2001191_f5-PA.jpeg\n",
            "ryct.2020200034.fig2.jpeg\n",
            "ryct.2020200034.fig5-day0.jpeg\n",
            "ryct.2020200034.fig5-day4.jpeg\n",
            "ryct.2020200034.fig5-day7.jpeg\n",
            "ryct.2020200028.fig1a.jpeg\n",
            "radiol.2020200490.fig3.jpeg\n",
            "1-s2.0-S0929664620300449-gr2_lrg-a.jpg\n",
            "1-s2.0-S0929664620300449-gr2_lrg-b.jpg\n",
            "1-s2.0-S0929664620300449-gr2_lrg-c.jpg\n",
            "1-s2.0-S0929664620300449-gr2_lrg-d.jpg\n",
            "covid-19-pneumonia-15-PA.jpg\n",
            "covid-19-pneumonia-2.jpg\n",
            "covid-19-pneumonia-7-PA.jpg\n",
            "covid-19-pneumonia-14-PA.png\n",
            "covid-19-pneumonia-12.jpg\n",
            "7C69C012-7479-493F-8722-ABC29C60A2DD.jpeg\n",
            "8FDE8DBA-CFBD-4B4C-B1A4-6F36A93B7E87.jpeg\n",
            "9C34AF49-E589-44D5-92D3-168B3B04E4A6.jpeg\n",
            "F2DE909F-E19C-4900-92F5-8F435B031AC6.jpeg\n",
            "31BA3780-2323-493F-8AED-62081B9C383B.jpeg\n",
            "1312A392-67A3-4EBF-9319-810CF6DA5EF6.jpeg\n",
            "23E99E2E-447C-46E5-8EB2-D35D12473C39.png\n",
            "7AF6C1AF-D249-4BD2-8C26-449304105D03.jpeg\n",
            "1B734A89-A1BF-49A8-A1D3-66FAFA4FAC5D.jpeg\n",
            "CD50BA96-6982-4C80-AE7B-5F67ACDBFA56.jpeg\n",
            "85E52EB3-56E9-4D67-82DA-DEA247C82886.jpeg\n",
            "6CB4EFC6-68FA-4CD5-940C-BEFA8DAFE9A7.jpeg\n",
            "01E392EE-69F9-4E33-BFCE-E5C968654078.jpeg\n",
            "F63AB6CE-1968-4154-A70F-913AF154F53D.jpeg\n",
            "2C26F453-AF3B-4517-BB9E-802CF2179543.jpeg\n",
            "93FE0BB1-022D-4F24-9727-987A07975FFB.jpeg\n",
            "F4341CE7-73C9-45C6-99C8-8567A5484B63.jpeg\n",
            "E63574A7-4188-4C8D-8D17-9D67A18A1AFA.jpeg\n",
            "80446565-E090-4187-A031-9D3CEAA586C8.jpeg\n",
            "all14238-fig-0001-m-b.jpg\n",
            "all14238-fig-0001-m-c.jpg\n",
            "1-s2.0-S1684118220300608-main.pdf-001.jpg\n",
            "1-s2.0-S1684118220300608-main.pdf-002.jpg\n",
            "ciaa199.pdf-001-a.png\n",
            "ciaa199.pdf-001-b.png\n",
            "ciaa199.pdf-001-c.png\n",
            "kjr-21-e25-g001-l-a.jpg\n",
            "kjr-21-e24-g001-l-a.jpg\n",
            "kjr-21-e24-g002-l-a.jpg\n",
            "kjr-21-e24-g003-l-a.jpg\n",
            "1-s2.0-S1684118220300682-main.pdf-002-a1.png\n",
            "1-s2.0-S1684118220300682-main.pdf-002-a2.png\n",
            "1-s2.0-S1684118220300682-main.pdf-003-b1.png\n",
            "1-s2.0-S1684118220300682-main.pdf-003-b2.png\n",
            "gr1_lrg-a.jpg\n",
            "gr1_lrg-b.jpg\n",
            "FE9F9A5D-2830-46F9-851B-1FF4534959BE.jpeg\n",
            "41591_2020_819_Fig1_HTML.webp-day5.png\n",
            "41591_2020_819_Fig1_HTML.webp-day10.png\n",
            "covid-19-pneumonia-19.jpg\n"
          ],
          "name": "stdout"
        }
      ]
    },
    {
      "cell_type": "code",
      "metadata": {
        "id": "sNUjfIwIrqqO",
        "colab_type": "code",
        "outputId": "616f8fc1-a36a-4e11-f80d-e22bd751ee80",
        "colab": {
          "base_uri": "https://localhost:8080/",
          "height": 35
        }
      },
      "source": [
        "  len(os.listdir('/content/drive/My Drive/COVID-19/dataset/covid'))"
      ],
      "execution_count": 0,
      "outputs": [
        {
          "output_type": "execute_result",
          "data": {
            "text/plain": [
              "69"
            ]
          },
          "metadata": {
            "tags": []
          },
          "execution_count": 127
        }
      ]
    },
    {
      "cell_type": "code",
      "metadata": {
        "id": "gxds2pO5rqw8",
        "colab_type": "code",
        "outputId": "5fef1a4f-aa02-44da-e08a-4eb5954ae84f",
        "colab": {
          "base_uri": "https://localhost:8080/",
          "height": 1000
        }
      },
      "source": [
        "for (i,row) in df.iterrows():\n",
        "  if row['finding'] != 'COVID-19' or row['view'] != 'PA':\n",
        "      img_path =os.path.join('/content/drive/My Drive/COVID-19/covid-chestxray-dataset','images',row['filename'])\n",
        "     \n",
        "      if not os.path.exists(img_path):\n",
        "        continue\n",
        "      filename = row[\"filename\"].split(os.path.sep)[-1] \n",
        "      print(filename)\n",
        "\n",
        "      \n",
        "      output_path = os.path.join('/content/drive/My Drive/COVID-19/dataset/others',filename)\n",
        "      shutil.copy2(img_path,output_path)\n",
        "    \n",
        "    "
      ],
      "execution_count": 0,
      "outputs": [
        {
          "output_type": "stream",
          "text": [
            "ARDSSevere.png\n",
            "SARS-10.1148rg.242035193-g04mr34g0-Fig8a-day0.jpeg\n",
            "SARS-10.1148rg.242035193-g04mr34g0-Fig8b-day5.jpeg\n",
            "SARS-10.1148rg.242035193-g04mr34g0-Fig8c-day10.jpeg\n",
            "SARS-10.1148rg.242035193-g04mr34g04a-Fig4a-day7.jpeg\n",
            "SARS-10.1148rg.242035193-g04mr34g04b-Fig4b-day12.jpeg\n",
            "SARS-10.1148rg.242035193-g04mr34g05x-Fig5-day9.jpeg\n",
            "SARS-10.1148rg.242035193-g04mr34g07a-Fig7a-day5.jpeg\n",
            "SARS-10.1148rg.242035193-g04mr34g07b-Fig7b-day12.jpeg\n",
            "SARS-10.1148rg.242035193-g04mr34g09a-Fig9a-day17.jpeg\n",
            "SARS-10.1148rg.242035193-g04mr34g09b-Fig9b-day19.jpeg\n",
            "SARS-10.1148rg.242035193-g04mr34g09c-Fig9c-day27.jpeg\n",
            "nejmoa2001191_f1-L.jpeg\n",
            "nejmoa2001191_f3-L.jpeg\n",
            "nejmoa2001191_f5-L.jpeg\n",
            "jkms-35-e79-g001-l-a.jpg\n",
            "jkms-35-e79-g001-l-b.jpg\n",
            "jkms-35-e79-g001-l-c.jpg\n",
            "jkms-35-e79-g001-l-d.jpg\n",
            "jkms-35-e79-g001-l-e.jpg\n",
            "1-s2.0-S0929664620300449-gr3_lrg-a.jpg\n",
            "1-s2.0-S0929664620300449-gr3_lrg-b.jpg\n",
            "1-s2.0-S0929664620300449-gr3_lrg-c.jpg\n",
            "1-s2.0-S0929664620300449-gr3_lrg-d.jpg\n",
            "covid-19-pneumonia-15-L.jpg\n",
            "covid-19-pneumonia-7-L.jpg\n",
            "covid-19-pneumonia-14-L.png\n",
            "acute-respiratory-distress-syndrome-ards-1.jpg\n",
            "acute-respiratory-distress-syndrome-ards.jpg\n",
            "ards-secondary-to-tiger-snake-bite.png\n",
            "pneumocystis-pneumonia-2-PA.png\n",
            "pneumocystis-pneumonia-2-L.png\n",
            "streptococcus-pneumoniae-pneumonia-1.jpg\n",
            "pneumonia-7.jpg\n",
            "streptococcus-pneumoniae-pneumonia-temporal-evolution-1-day0.jpg\n",
            "streptococcus-pneumoniae-pneumonia-temporal-evolution-1-day1.jpg\n",
            "streptococcus-pneumoniae-pneumonia-temporal-evolution-1-day2.jpg\n",
            "streptococcus-pneumoniae-pneumonia-temporal-evolution-1-day3.jpg\n",
            "39EE8E69-5801-48DE-B6E3-BE7D1BCF3092.jpeg\n",
            "191F3B3A-2879-4EF3-BE56-EE0D2B5AAEE3.jpeg\n",
            "DE488FE1-0C44-428B-B67A-09741C1214C0.jpeg\n",
            "44C8E3D6-20DA-42E9-B33B-96FA6D6DE12F.jpeg\n",
            "3ED3C0E1-4FE0-4238-8112-DDFF9E20B471.jpeg\n",
            "2C10A413-AABE-4807-8CCE-6A2025594067.jpeg\n",
            "FC230FE2-1DDF-40EB-AA0D-21F950933289.jpeg\n",
            "66298CBF-6F10-42D5-A688-741F6AC84A76.jpeg\n",
            "E1724330-1866-4581-8CD8-CEC9B8AFEDDE.jpeg\n",
            "925446AE-B3C7-4C93-941B-AC4D2FE1F455.jpeg\n",
            "6A7D4110-2BFC-4D9A-A2D6-E9226D91D25A.jpeg\n",
            "21DDEBFD-7F16-4E3E-8F90-CB1B8EE82828.jpeg\n",
            "F051E018-DAD1-4506-AD43-BE4CA29E960B.jpeg\n",
            "5083A6B7-8983-472E-A427-570A3E03DDEE.jpeg\n",
            "396A81A5-982C-44E9-A57E-9B1DC34E2C08.jpeg\n",
            "B59DD164-51D5-40DF-A926-6A42DD52EBE8.jpeg\n",
            "D5ACAA93-C779-4E22-ADFA-6A220489F840.jpeg\n",
            "35AF5C3B-D04D-4B4B-92B7-CB1F67D83085.jpeg\n",
            "5CBC2E94-D358-401E-8928-965CCD965C5C.jpeg\n",
            "446B2CB6-B572-40AB-B01F-1910CA07086A.jpeg\n",
            "7E335538-2F86-424E-A0AB-6397783A38D0.jpeg\n",
            "D7AF463C-2369-492D-908D-BE1911CCD74C.jpeg\n",
            "all14238-fig-0002-m-d.jpg\n",
            "all14238-fig-0002-m-e.jpg\n",
            "all14238-fig-0002-m-f.jpg\n",
            "kjr-21-e24-g001-l-b.jpg\n",
            "kjr-21-e24-g001-l-c.jpg\n",
            "kjr-21-e24-g002-l-b.jpg\n",
            "kjr-21-e24-g002-l-c.jpg\n",
            "kjr-21-e24-g003-l-b.jpg\n",
            "kjr-21-e24-g004-l-a.jpg\n",
            "kjr-21-e24-g004-l-b.jpg\n",
            "7D2CF6CE-F529-4470-8356-D33FFAF98600.jpeg\n",
            "4C4DEFD8-F55D-4588-AAD6-C59017F55966.jpeg\n",
            "171CB377-62FF-4B76-906C-F3787A01CB2E.jpeg\n",
            "5931B64A-7B97-485D-BE60-3F1EA76BC4F0.jpeg\n",
            "C6EA0BE5-B01E-4113-B194-18D956675E25.jpeg\n",
            "7EF28E12-F628-4BEC-A8C5-E6277C2E4F60.png\n",
            "5e6dd879fde9502400e58b2f.jpeg\n"
          ],
          "name": "stdout"
        }
      ]
    },
    {
      "cell_type": "code",
      "metadata": {
        "id": "SaO88nM1rq65",
        "colab_type": "code",
        "outputId": "051a5bb0-b6cd-49bf-e466-0fc7208304af",
        "colab": {
          "base_uri": "https://localhost:8080/",
          "height": 35
        }
      },
      "source": [
        "  len(os.listdir('/content/drive/My Drive/COVID-19/dataset/others'))"
      ],
      "execution_count": 38,
      "outputs": [
        {
          "output_type": "execute_result",
          "data": {
            "text/plain": [
              "68"
            ]
          },
          "metadata": {
            "tags": []
          },
          "execution_count": 38
        }
      ]
    },
    {
      "cell_type": "code",
      "metadata": {
        "id": "5d3y09B2rR8H",
        "colab_type": "code",
        "colab": {}
      },
      "source": [
        "from tensorflow.keras.preprocessing.image import ImageDataGenerator\n",
        "from tensorflow.keras.applications import VGG16\n",
        "from tensorflow.keras.layers import AveragePooling2D\n",
        "from tensorflow.keras.layers import Dropout\n",
        "from tensorflow.keras.layers import Flatten\n",
        "from tensorflow.keras.layers import Dense\n",
        "from tensorflow.keras.layers import Input\n",
        "from tensorflow.keras.models import Model\n",
        "from tensorflow.keras.optimizers import Adam\n",
        "from tensorflow.keras.utils import to_categorical\n",
        "from sklearn.preprocessing import LabelBinarizer\n",
        "from sklearn.model_selection import train_test_split\n",
        "from sklearn.metrics import classification_report\n",
        "from sklearn.metrics import confusion_matrix\n",
        "\n",
        "\n",
        "\n",
        "import matplotlib.pyplot as plt\n",
        "from imutils import paths\n",
        "import numpy as np\n",
        "import cv2\n",
        "import os"
      ],
      "execution_count": 0,
      "outputs": []
    },
    {
      "cell_type": "code",
      "metadata": {
        "id": "8HKYhYUaxR35",
        "colab_type": "code",
        "colab": {}
      },
      "source": [
        "INIT_LR = 1e-3\n",
        "EPOCHS= 18\n",
        "BS =8"
      ],
      "execution_count": 0,
      "outputs": []
    },
    {
      "cell_type": "code",
      "metadata": {
        "id": "FClk5XiRhlUI",
        "colab_type": "code",
        "colab": {
          "base_uri": "https://localhost:8080/",
          "height": 55
        },
        "outputId": "53bdc052-5c79-48b4-cf88-f631fc51bbc5"
      },
      "source": [
        "from google.colab import drive\n",
        "drive.mount('/content/drive')"
      ],
      "execution_count": 120,
      "outputs": [
        {
          "output_type": "stream",
          "text": [
            "Drive already mounted at /content/drive; to attempt to forcibly remount, call drive.mount(\"/content/drive\", force_remount=True).\n"
          ],
          "name": "stdout"
        }
      ]
    },
    {
      "cell_type": "markdown",
      "metadata": {
        "id": "PSImHsef6c-C",
        "colab_type": "text"
      },
      "source": [
        ""
      ]
    },
    {
      "cell_type": "code",
      "metadata": {
        "id": "A1UpfDXvxR4S",
        "colab_type": "code",
        "outputId": "5266d18b-0d79-4080-ef56-7484edd0cf70",
        "colab": {
          "base_uri": "https://localhost:8080/",
          "height": 35
        }
      },
      "source": [
        "os.getcwd()"
      ],
      "execution_count": 121,
      "outputs": [
        {
          "output_type": "execute_result",
          "data": {
            "text/plain": [
              "'/content/drive/My Drive/COVID-19'"
            ]
          },
          "metadata": {
            "tags": []
          },
          "execution_count": 121
        }
      ]
    },
    {
      "cell_type": "code",
      "metadata": {
        "id": "Hx4YSnPwxe24",
        "colab_type": "code",
        "outputId": "bf02c8eb-17b1-49e8-9c9d-fb9d03ec0acb",
        "colab": {
          "base_uri": "https://localhost:8080/",
          "height": 35
        }
      },
      "source": [
        "\n",
        "%cd '/content/drive/My Drive/COVID-19'\n",
        "\n",
        "\n"
      ],
      "execution_count": 122,
      "outputs": [
        {
          "output_type": "stream",
          "text": [
            "/content/drive/My Drive/COVID-19\n"
          ],
          "name": "stdout"
        }
      ]
    },
    {
      "cell_type": "code",
      "metadata": {
        "id": "FHzpG3bLxR4e",
        "colab_type": "code",
        "outputId": "cf6184c4-9746-4cc1-fc30-c4e44abed410",
        "colab": {
          "base_uri": "https://localhost:8080/",
          "height": 52
        }
      },
      "source": [
        "\n",
        "imagePaths = list(paths.list_images('dataset'))\n",
        "\n",
        "data=[]\n",
        "labels=[]\n",
        "\n",
        "print(\"images loading ...\")\n",
        "for imagePath in imagePaths:\n",
        "  #[-2] denotes the folder name as label e.g covid/1.jpeg in this it extract the covid as label\n",
        "  label = imagePath.split(os.path.sep)[-2]\n",
        "  \n",
        "  # load the image, swap color channels, and resize it to be a fixed 224x224 pixels while ignoring aspect ratio\n",
        "  image = cv2.imread(imagePath)\n",
        "  image = cv2.cvtColor(image, cv2.COLOR_BGR2RGB)\n",
        "  image = cv2.resize(image, (224,224))\n",
        "  \n",
        "  #update data and labels\n",
        "  \n",
        "  data.append(image)\n",
        "  labels.append(label)\n",
        "\n",
        "print(\"images loaded ...\")\n"
      ],
      "execution_count": 123,
      "outputs": [
        {
          "output_type": "stream",
          "text": [
            "images loading ...\n",
            "images loaded ...\n"
          ],
          "name": "stdout"
        }
      ]
    },
    {
      "cell_type": "code",
      "metadata": {
        "id": "BVqVOTdrFrdJ",
        "colab_type": "code",
        "outputId": "6bccbdc3-2f0d-41e1-e0b2-8b963b78065c",
        "colab": {
          "base_uri": "https://localhost:8080/",
          "height": 55
        }
      },
      "source": [
        "print(labels)"
      ],
      "execution_count": 124,
      "outputs": [
        {
          "output_type": "stream",
          "text": [
            "['covid', 'covid', 'covid', 'covid', 'covid', 'covid', 'covid', 'covid', 'covid', 'covid', 'covid', 'covid', 'covid', 'covid', 'covid', 'covid', 'covid', 'covid', 'covid', 'covid', 'covid', 'covid', 'covid', 'covid', 'covid', 'covid', 'covid', 'covid', 'covid', 'covid', 'covid', 'covid', 'covid', 'covid', 'covid', 'covid', 'covid', 'covid', 'covid', 'covid', 'covid', 'covid', 'covid', 'covid', 'covid', 'covid', 'covid', 'covid', 'covid', 'covid', 'covid', 'covid', 'covid', 'covid', 'covid', 'covid', 'covid', 'covid', 'covid', 'covid', 'covid', 'covid', 'covid', 'covid', 'covid', 'covid', 'covid', 'covid', 'covid', 'others', 'others', 'others', 'others', 'others', 'others', 'others', 'others', 'others', 'others', 'others', 'others', 'others', 'others', 'others', 'others', 'others', 'others', 'others', 'others', 'others', 'others', 'others', 'others', 'others', 'others', 'others', 'others', 'others', 'others', 'others', 'others', 'others', 'others', 'others', 'others', 'others', 'others', 'others', 'others', 'others', 'others', 'others', 'others', 'others', 'others', 'others', 'others', 'others', 'others', 'others', 'others', 'others', 'others', 'others', 'others', 'others', 'others', 'others', 'others', 'others', 'others', 'others', 'others', 'others', 'others', 'others']\n"
          ],
          "name": "stdout"
        }
      ]
    },
    {
      "cell_type": "code",
      "metadata": {
        "id": "4K7kQGBxhsNO",
        "colab_type": "code",
        "colab": {}
      },
      "source": [
        ""
      ],
      "execution_count": 0,
      "outputs": []
    },
    {
      "cell_type": "code",
      "metadata": {
        "id": "PHVH67GjhRU2",
        "colab_type": "code",
        "colab": {}
      },
      "source": [
        ""
      ],
      "execution_count": 0,
      "outputs": []
    },
    {
      "cell_type": "code",
      "metadata": {
        "id": "x5dABZBgxqV8",
        "colab_type": "code",
        "colab": {}
      },
      "source": [
        "# from google.colab import drive\n",
        "# drive.mount('/content/drive')"
      ],
      "execution_count": 0,
      "outputs": []
    },
    {
      "cell_type": "code",
      "metadata": {
        "id": "kGI-65c1xR4s",
        "colab_type": "code",
        "colab": {}
      },
      "source": [
        ""
      ],
      "execution_count": 0,
      "outputs": []
    },
    {
      "cell_type": "code",
      "metadata": {
        "id": "gJGr9OcOxR5P",
        "colab_type": "code",
        "colab": {}
      },
      "source": [
        "#We then scale pixel intensities to the range [0, 1]\n",
        "#and convert both our data and labels to NumPy \n",
        "#array format\n",
        "data=np.array(data) /255.0\n",
        "labels =np.array(labels)"
      ],
      "execution_count": 0,
      "outputs": []
    },
    {
      "cell_type": "code",
      "metadata": {
        "id": "dyt_23SkxR6B",
        "colab_type": "code",
        "colab": {}
      },
      "source": [
        "lb = LabelBinarizer()\n",
        "labels = lb.fit_transform(labels)\n",
        "labels = to_categorical(labels)\n",
        "# print(labels)"
      ],
      "execution_count": 0,
      "outputs": []
    },
    {
      "cell_type": "code",
      "metadata": {
        "id": "IiAJzG8oxR6U",
        "colab_type": "code",
        "colab": {}
      },
      "source": [
        "(trainX,testX ,trainY, testY) = train_test_split(data , labels , test_size = 0.20 ,stratify = labels , random_state= 42)\n",
        "trainAug = ImageDataGenerator(rotation_range=15, fill_mode=\"nearest\")"
      ],
      "execution_count": 0,
      "outputs": []
    },
    {
      "cell_type": "code",
      "metadata": {
        "id": "Ugrjgp-axR6k",
        "colab_type": "code",
        "colab": {}
      },
      "source": [
        "#load the vgg16 network , ensuring the head FC layer sets are left\n",
        "baseModel = VGG16(weights ='imagenet', include_top= False, input_tensor = Input(shape = (224,224,3)))\n",
        "#construct the head of the model which will be placed on top of the base model\n"
      ],
      "execution_count": 0,
      "outputs": []
    },
    {
      "cell_type": "code",
      "metadata": {
        "id": "TYu8hL-b1AmP",
        "colab_type": "code",
        "colab": {}
      },
      "source": [
        "\n",
        "headModel = baseModel.output\n",
        "headModel = AveragePooling2D(pool_size=(4,4))(headModel)\n",
        "headModel = Flatten(name='flattern')(headModel)\n",
        "headModel = Dense(64, activation='relu')(headModel)\n",
        "headModel = Dense(32, activation='relu')(headModel)\n",
        "headModel = Dropout(0.5)(headModel)\n",
        "headModel = Dense(2,activation = 'softmax')(headModel)\n",
        "\n",
        "\n",
        "#place the head FC model on top of the base model \n",
        "\n",
        "model = Model(inputs = baseModel.input, outputs=headModel)\n",
        "for layer in baseModel.layers:\n",
        "    layer.trainable = False"
      ],
      "execution_count": 0,
      "outputs": []
    },
    {
      "cell_type": "code",
      "metadata": {
        "id": "slSo4ixcxR7E",
        "colab_type": "code",
        "outputId": "25192d98-ba4a-4a97-8426-34e3e33a796c",
        "colab": {
          "base_uri": "https://localhost:8080/",
          "height": 1000
        }
      },
      "source": [
        "\n",
        "# compile our model\n",
        "print(\"[INFO] compiling model...\")\n",
        "opt = Adam(lr=INIT_LR, decay=INIT_LR / EPOCHS)\n",
        "model.compile(loss=\"binary_crossentropy\", optimizer=opt,\n",
        "\tmetrics=[\"accuracy\"])\n",
        "# train the head of the network\n",
        "print(\"[INFO] training head...\")\n",
        "H = model.fit_generator(\n",
        "\ttrainAug.flow(trainX, trainY, batch_size=BS),\n",
        "\tsteps_per_epoch=len(trainX) // BS,\n",
        "\tvalidation_data=(testX, testY),\n",
        "\tvalidation_steps=len(testX) // BS,\n",
        "\tepochs=EPOCHS)"
      ],
      "execution_count": 131,
      "outputs": [
        {
          "output_type": "stream",
          "text": [
            "[INFO] compiling model...\n",
            "[INFO] training head...\n",
            "Epoch 1/18\n",
            "12/13 [==========================>...] - ETA: 4s - loss: 0.7559 - acc: 0.5109Epoch 1/18\n",
            "28/13 [================================================================] - 15s 526ms/sample - loss: 0.6929 - acc: 0.6429\n",
            "13/13 [==============================] - 67s 5s/step - loss: 0.7518 - acc: 0.5100 - val_loss: 0.6732 - val_acc: 0.6429\n",
            "Epoch 2/18\n",
            "12/13 [==========================>...] - ETA: 3s - loss: 0.7223 - acc: 0.5000Epoch 1/18\n",
            "28/13 [================================================================] - 14s 516ms/sample - loss: 0.6608 - acc: 0.7143\n",
            "13/13 [==============================] - 66s 5s/step - loss: 0.7127 - acc: 0.5100 - val_loss: 0.6508 - val_acc: 0.7143\n",
            "Epoch 3/18\n",
            "12/13 [==========================>...] - ETA: 4s - loss: 0.7166 - acc: 0.5417Epoch 1/18\n",
            "28/13 [================================================================] - 14s 517ms/sample - loss: 0.6628 - acc: 0.6071\n",
            "13/13 [==============================] - 68s 5s/step - loss: 0.7111 - acc: 0.5577 - val_loss: 0.6488 - val_acc: 0.6071\n",
            "Epoch 4/18\n",
            "12/13 [==========================>...] - ETA: 4s - loss: 0.6672 - acc: 0.5870Epoch 1/18\n",
            "28/13 [================================================================] - 14s 518ms/sample - loss: 0.5940 - acc: 0.7857\n",
            "13/13 [==============================] - 67s 5s/step - loss: 0.6579 - acc: 0.6100 - val_loss: 0.6133 - val_acc: 0.7857\n",
            "Epoch 5/18\n",
            "12/13 [==========================>...] - ETA: 3s - loss: 0.6285 - acc: 0.6364Epoch 1/18\n",
            "28/13 [================================================================] - 14s 515ms/sample - loss: 0.5486 - acc: 0.8571\n",
            "13/13 [==============================] - 64s 5s/step - loss: 0.6345 - acc: 0.6250 - val_loss: 0.5882 - val_acc: 0.8571\n",
            "Epoch 6/18\n",
            "12/13 [==========================>...] - ETA: 3s - loss: 0.6012 - acc: 0.7174Epoch 1/18\n",
            "28/13 [================================================================] - 14s 510ms/sample - loss: 0.5939 - acc: 0.8214\n",
            "13/13 [==============================] - 66s 5s/step - loss: 0.6052 - acc: 0.7200 - val_loss: 0.5856 - val_acc: 0.8214\n",
            "Epoch 7/18\n",
            "12/13 [==========================>...] - ETA: 3s - loss: 0.5890 - acc: 0.6630Epoch 1/18\n",
            "28/13 [================================================================] - 14s 506ms/sample - loss: 0.4696 - acc: 0.6429\n",
            "13/13 [==============================] - 66s 5s/step - loss: 0.5858 - acc: 0.6700 - val_loss: 0.5532 - val_acc: 0.6429\n",
            "Epoch 8/18\n",
            "12/13 [==========================>...] - ETA: 4s - loss: 0.6271 - acc: 0.6979Epoch 1/18\n",
            "28/13 [================================================================] - 14s 506ms/sample - loss: 0.6927 - acc: 0.5714\n",
            "13/13 [==============================] - 68s 5s/step - loss: 0.6159 - acc: 0.7115 - val_loss: 0.6401 - val_acc: 0.5714\n",
            "Epoch 9/18\n",
            "12/13 [==========================>...] - ETA: 4s - loss: 0.6589 - acc: 0.5978Epoch 1/18\n",
            "28/13 [================================================================] - 14s 517ms/sample - loss: 0.4765 - acc: 0.7500\n",
            "13/13 [==============================] - 67s 5s/step - loss: 0.6604 - acc: 0.5900 - val_loss: 0.5428 - val_acc: 0.7500\n",
            "Epoch 10/18\n",
            "12/13 [==========================>...] - ETA: 4s - loss: 0.5596 - acc: 0.7283Epoch 1/18\n",
            "28/13 [================================================================] - 14s 509ms/sample - loss: 0.4993 - acc: 0.8214\n",
            "13/13 [==============================] - 64s 5s/step - loss: 0.5707 - acc: 0.7083 - val_loss: 0.5426 - val_acc: 0.8214\n",
            "Epoch 11/18\n",
            "12/13 [==========================>...] - ETA: 4s - loss: 0.5573 - acc: 0.7396Epoch 1/18\n",
            "28/13 [================================================================] - 14s 505ms/sample - loss: 0.4924 - acc: 0.7500\n",
            "13/13 [==============================] - 68s 5s/step - loss: 0.5659 - acc: 0.7308 - val_loss: 0.5194 - val_acc: 0.7500\n",
            "Epoch 12/18\n",
            "12/13 [==========================>...] - ETA: 3s - loss: 0.5174 - acc: 0.8043Epoch 1/18\n",
            "28/13 [================================================================] - 14s 501ms/sample - loss: 0.4157 - acc: 0.7857\n",
            "13/13 [==============================] - 65s 5s/step - loss: 0.5481 - acc: 0.7700 - val_loss: 0.4855 - val_acc: 0.7857\n",
            "Epoch 13/18\n",
            "12/13 [==========================>...] - ETA: 3s - loss: 0.5312 - acc: 0.7174Epoch 1/18\n",
            "28/13 [================================================================] - 14s 505ms/sample - loss: 0.4301 - acc: 0.7857\n",
            "13/13 [==============================] - 66s 5s/step - loss: 0.5319 - acc: 0.7300 - val_loss: 0.4858 - val_acc: 0.7857\n",
            "Epoch 14/18\n",
            "12/13 [==========================>...] - ETA: 3s - loss: 0.4899 - acc: 0.7826Epoch 1/18\n",
            "28/13 [================================================================] - 14s 500ms/sample - loss: 0.4846 - acc: 0.7500\n",
            "13/13 [==============================] - 65s 5s/step - loss: 0.5031 - acc: 0.7700 - val_loss: 0.5125 - val_acc: 0.7500\n",
            "Epoch 15/18\n",
            "12/13 [==========================>...] - ETA: 3s - loss: 0.5110 - acc: 0.7391Epoch 1/18\n",
            "28/13 [================================================================] - 14s 508ms/sample - loss: 0.3962 - acc: 0.7857\n",
            "13/13 [==============================] - 65s 5s/step - loss: 0.4983 - acc: 0.7600 - val_loss: 0.4609 - val_acc: 0.7857\n",
            "Epoch 16/18\n",
            "12/13 [==========================>...] - ETA: 4s - loss: 0.4766 - acc: 0.7500Epoch 1/18\n",
            "28/13 [================================================================] - 14s 513ms/sample - loss: 0.4461 - acc: 0.7500\n",
            "13/13 [==============================] - 66s 5s/step - loss: 0.4740 - acc: 0.7500 - val_loss: 0.4903 - val_acc: 0.7500\n",
            "Epoch 17/18\n",
            "12/13 [==========================>...] - ETA: 3s - loss: 0.4873 - acc: 0.7500Epoch 1/18\n",
            "28/13 [================================================================] - 14s 504ms/sample - loss: 0.4247 - acc: 0.6429\n",
            "13/13 [==============================] - 65s 5s/step - loss: 0.4762 - acc: 0.7500 - val_loss: 0.4752 - val_acc: 0.6429\n",
            "Epoch 18/18\n",
            "12/13 [==========================>...] - ETA: 3s - loss: 0.4659 - acc: 0.7935Epoch 1/18\n",
            "28/13 [================================================================] - 14s 504ms/sample - loss: 0.3933 - acc: 0.7500\n",
            "13/13 [==============================] - 65s 5s/step - loss: 0.4715 - acc: 0.7900 - val_loss: 0.4544 - val_acc: 0.7500\n"
          ],
          "name": "stdout"
        }
      ]
    },
    {
      "cell_type": "code",
      "metadata": {
        "id": "TPZY3e9xxR7T",
        "colab_type": "code",
        "colab": {
          "base_uri": "https://localhost:8080/",
          "height": 277
        },
        "outputId": "468db969-5936-43cd-8c49-3b5752da4246"
      },
      "source": [
        "# make predictions on the testing set\n",
        "print(\"[INFO] evaluating network...\")\n",
        "predIdxs = model.predict(testX, batch_size=BS)\n",
        "# for each image in the testing set we need to find the index of the\n",
        "# label with corresponding largest predicted probability\n",
        "predIdxs = np.argmax(predIdxs, axis=1)\n",
        "# show a nicely formatted classification report\n",
        "print(classification_report(testY.argmax(axis=1), predIdxs,target_names=lb.classes_))\n",
        "\n",
        "# compute the confusion matrix and and use it to derive the raw\n",
        "# accuracy, sensitivity, and specificity\n",
        "cm = confusion_matrix(testY.argmax(axis=1), predIdxs)\n",
        "total = sum(sum(cm))\n",
        "acc = (cm[0, 0] + cm[1, 1]) / total\n",
        "sensitivity = cm[0, 0] / (cm[0, 0] + cm[0, 1])\n",
        "specificity = cm[1, 1] / (cm[1, 0] + cm[1, 1])\n",
        "# show the confusion matrix, accuracy, sensitivity, and specificity\n",
        "print(cm)\n",
        "print(\"acc: {:.4f}\".format(acc))\n",
        "print(\"sensitivity: {:.4f}\".format(sensitivity))\n",
        "print(\"specificity: {:.4f}\".format(specificity))"
      ],
      "execution_count": 132,
      "outputs": [
        {
          "output_type": "stream",
          "text": [
            "[INFO] evaluating network...\n",
            "              precision    recall  f1-score   support\n",
            "\n",
            "       covid       0.73      0.79      0.76        14\n",
            "      others       0.77      0.71      0.74        14\n",
            "\n",
            "    accuracy                           0.75        28\n",
            "   macro avg       0.75      0.75      0.75        28\n",
            "weighted avg       0.75      0.75      0.75        28\n",
            "\n",
            "[[11  3]\n",
            " [ 4 10]]\n",
            "acc: 0.7500\n",
            "sensitivity: 0.7857\n",
            "specificity: 0.7143\n"
          ],
          "name": "stdout"
        }
      ]
    },
    {
      "cell_type": "code",
      "metadata": {
        "id": "1pTbK9lJ-SYj",
        "colab_type": "code",
        "colab": {
          "base_uri": "https://localhost:8080/",
          "height": 317
        },
        "outputId": "64a84107-e349-4ddd-dd9c-da759b260859"
      },
      "source": [
        "# plot the training loss and accuracy\n",
        "import matplotlib.pyplot as plt\n",
        "\n",
        "N = EPOCHS\n",
        "plt.style.use(\"ggplot\")\n",
        "plt.figure()\n",
        "plt.plot(np.arange(0, N), H.history[\"loss\"], label=\"train_loss\")\n",
        "plt.plot(np.arange(0, N), H.history[\"val_loss\"], label=\"val_loss\")\n",
        "plt.plot(np.arange(0, N), H.history[\"acc\"], label=\"train_acc\")\n",
        "plt.plot(np.arange(0, N), H.history[\"val_acc\"], label=\"val_acc\")\n",
        "plt.title(\"Training Loss and Accuracy on COVID-19 Dataset\")\n",
        "plt.xlabel(\"Epoch #\")\n",
        "plt.ylabel(\"Loss/Accuracy\")\n",
        "plt.legend(loc=\"lower left\")\n"
      ],
      "execution_count": 133,
      "outputs": [
        {
          "output_type": "execute_result",
          "data": {
            "text/plain": [
              "<matplotlib.legend.Legend at 0x7faf1aed1978>"
            ]
          },
          "metadata": {
            "tags": []
          },
          "execution_count": 133
        },
        {
          "output_type": "display_data",
          "data": {
            "image/png": "[encoded data removed]",
            "text/plain": [
              "<Figure size 432x288 with 1 Axes>"
            ]
          },
          "metadata": {
            "tags": []
          }
        }
      ]
    },
    {
      "cell_type": "code",
      "metadata": {
        "id": "WtRtt3AXxR70",
        "colab_type": "code",
        "colab": {}
      },
      "source": [
        ""
      ],
      "execution_count": 0,
      "outputs": []
    },
    {
      "cell_type": "code",
      "metadata": {
        "id": "tRHCrdzpxR8S",
        "colab_type": "code",
        "colab": {}
      },
      "source": [
        ""
      ],
      "execution_count": 0,
      "outputs": []
    },
    {
      "cell_type": "code",
      "metadata": {
        "id": "6ayN3dmdxR8l",
        "colab_type": "code",
        "colab": {}
      },
      "source": [
        ""
      ],
      "execution_count": 0,
      "outputs": []
    }
  ]
}